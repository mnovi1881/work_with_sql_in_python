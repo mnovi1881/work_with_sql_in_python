{
  "nbformat": 4,
  "nbformat_minor": 0,
  "metadata": {
    "colab": {
      "provenance": [],
      "include_colab_link": true
    },
    "kernelspec": {
      "name": "python3",
      "display_name": "Python 3"
    },
    "language_info": {
      "name": "python"
    }
  },
  "cells": [
    {
      "cell_type": "markdown",
      "metadata": {
        "id": "view-in-github",
        "colab_type": "text"
      },
      "source": [
        "<a href=\"https://colab.research.google.com/github/mnovi1881/work_with_sql_in_python/blob/main/%D0%9A%D0%BE%D0%BF%D0%B8%D1%8F_%D0%B1%D0%BB%D0%BE%D0%BA%D0%BD%D0%BE%D1%82%D0%B0_%22hometask_04_ipynb%22.ipynb\" target=\"_parent\"><img src=\"https://colab.research.google.com/assets/colab-badge.svg\" alt=\"Open In Colab\"/></a>"
      ]
    },
    {
      "cell_type": "markdown",
      "source": [
        "# Домашнее задание 4"
      ],
      "metadata": {
        "id": "M6bcvzhRXo7l"
      }
    },
    {
      "cell_type": "markdown",
      "source": [
        "Максимальный балл за домашнюю работу 10.\n",
        "Необходимо выполнять все задания в ноутбуке с помощью чистого SQL и SQLAlchemy ORM:\n",
        "- осуществить подключение к БД\n",
        "- каждое задание оформить в отдельной ячейке\n",
        "- результат выполнения запросов записать в pandas dataframe"
      ],
      "metadata": {
        "id": "P1ujuc0FYAym"
      }
    },
    {
      "cell_type": "markdown",
      "source": [
        "## Задание 1 (1 балл)"
      ],
      "metadata": {
        "id": "ydPywFWMYKak"
      }
    },
    {
      "cell_type": "markdown",
      "source": [
        "Сформируйте упорядоченный список из первых 10 фамилий в таблице участников?  \n",
        "Список не должен содержать дубликатов."
      ],
      "metadata": {
        "id": "uNE52YbzcvfS"
      }
    },
    {
      "cell_type": "code",
      "execution_count": null,
      "metadata": {
        "id": "dj_-CkbGW5SO"
      },
      "outputs": [],
      "source": []
    },
    {
      "cell_type": "markdown",
      "source": [
        "## Задание 2  (1 балл)"
      ],
      "metadata": {
        "id": "SnqnccBgYMX2"
      }
    },
    {
      "cell_type": "markdown",
      "source": [
        "Выведите имя и фамилию последнего зарегистрировавшегося участника, а также дату."
      ],
      "metadata": {
        "id": "sbLrIV5Yc2qY"
      }
    },
    {
      "cell_type": "code",
      "source": [],
      "metadata": {
        "id": "GAFBv2Q6YMxE"
      },
      "execution_count": null,
      "outputs": []
    },
    {
      "cell_type": "markdown",
      "source": [
        "## Задание 3 (2 балла)"
      ],
      "metadata": {
        "id": "VyclNp3iYNHG"
      }
    },
    {
      "cell_type": "markdown",
      "source": [
        "Составьте список времени начала бронирования теннисных кортов на дату \"2012-09-21\".  \n",
        "В итоговой выборке верните список пар времени начала и названий объектов, упорядоченных по времени."
      ],
      "metadata": {
        "id": "NrFVbFncdK4W"
      }
    },
    {
      "cell_type": "code",
      "source": [],
      "metadata": {
        "id": "CKKlECBQYNZE"
      },
      "execution_count": null,
      "outputs": []
    },
    {
      "cell_type": "markdown",
      "source": [
        "## Задание 4 (2 балла)"
      ],
      "metadata": {
        "id": "jRJpFmo3YOCE"
      }
    },
    {
      "cell_type": "markdown",
      "source": [
        " Выведите список всех участников, включая человека, который их рекомендовал (если таковой имеется).  \n",
        " Убедитесь, что результаты упорядочены по (фамилия, имя)."
      ],
      "metadata": {
        "id": "ShzBa7R5dyyK"
      }
    },
    {
      "cell_type": "code",
      "source": [],
      "metadata": {
        "id": "FTTQcC6-YOgD"
      },
      "execution_count": null,
      "outputs": []
    },
    {
      "cell_type": "markdown",
      "source": [
        "## Задание 5 (2 балла)"
      ],
      "metadata": {
        "id": "bIUxzzbjYO6t"
      }
    },
    {
      "cell_type": "markdown",
      "source": [
        "Составьте список чила слотов забронированных по каждой услуге в сентябре 2012ого года.  \n",
        "\n",
        "В выводе отобразите две колонки: `facid`, `Total Slots`, и отсортируйте по числу слотов."
      ],
      "metadata": {
        "id": "9PvxVUn3ecf_"
      }
    },
    {
      "cell_type": "code",
      "source": [],
      "metadata": {
        "id": "HoU3PelfYPdE"
      },
      "execution_count": null,
      "outputs": []
    },
    {
      "cell_type": "markdown",
      "source": [
        "## Задание 6 (2 балла)"
      ],
      "metadata": {
        "id": "dzPjrj8sYP7M"
      }
    },
    {
      "cell_type": "markdown",
      "source": [
        "Составьте список бронирований на день 2012-09-14, которые обойдутся участнику (или гостю) более чем в 30 долларов. Помните, что у гостя всегда идентификатор 0 и расходы гостей отличаются от расходов участников (расходы указаны за получасовой слот).\n",
        "\n",
        "В выводе отобразите три колонки: `member`, `facility`, `cost` и отсортируйте по убыванию стоимости. В колонке `member` объединим имя и фамилию следующим образом:\n",
        "\n",
        "`mems.firstname || ' ' || mems.surname as member`  \n",
        "(в данном случае `mems` — это алиас на колонку `members`)"
      ],
      "metadata": {
        "id": "niisSLykfFg1"
      }
    },
    {
      "cell_type": "code",
      "source": [],
      "metadata": {
        "id": "DyXe1ra1YQuN"
      },
      "execution_count": null,
      "outputs": []
    }
  ]
}